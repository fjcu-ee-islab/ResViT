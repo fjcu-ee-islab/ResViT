{
 "cells": [
  {
   "cell_type": "code",
   "execution_count": 6,
   "metadata": {},
   "outputs": [
    {
     "name": "stdout",
     "output_type": "stream",
     "text": [
      "Using GPU for acceleration\n",
      "Using GPU for acceleration\n",
      "Using GPU for acceleration\n",
      "Using GPU for acceleration\n"
     ]
    },
    {
     "name": "stderr",
     "output_type": "stream",
     "text": [
      "100%|██████████| 768/768 [00:06<00:00, 114.55it/s]\n"
     ]
    },
    {
     "name": "stdout",
     "output_type": "stream",
     "text": [
      "Using GPU for acceleration\n",
      "Using GPU for acceleration\n"
     ]
    }
   ],
   "source": [
    "%run vit.py --image-path=\"00010.jpg\" --method=\"gradcam\" --savepath=\"123/\"\n",
    "%run vit.py --image-path=\"00010.jpg\" --method=\"gradcam++\" --savepath=\"123/\"\n",
    "%run vit.py --image-path=\"00010.jpg\" --method=\"layercam\" --savepath=\"123/\"\n",
    "%run vit.py --image-path=\"00010.jpg\" --method=\"scorecam\" --savepath=\"123/\"\n",
    "%run vit.py --image-path=\"00010.jpg\" --method=\"eigencam\" --savepath=\"123/\"\n",
    "%run vit.py --image-path=\"00010.jpg\" --method=\"eigengradcam\" --savepath=\"123/\""
   ]
  },
  {
   "cell_type": "code",
   "execution_count": null,
   "metadata": {},
   "outputs": [],
   "source": []
  }
 ],
 "metadata": {
  "kernelspec": {
   "display_name": "Python 3",
   "language": "python",
   "name": "python3"
  },
  "language_info": {
   "codemirror_mode": {
    "name": "ipython",
    "version": 3
   },
   "file_extension": ".py",
   "mimetype": "text/x-python",
   "name": "python",
   "nbconvert_exporter": "python",
   "pygments_lexer": "ipython3",
   "version": "3.8.6"
  }
 },
 "nbformat": 4,
 "nbformat_minor": 4
}
